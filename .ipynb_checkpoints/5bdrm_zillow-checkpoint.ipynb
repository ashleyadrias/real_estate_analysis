{
 "cells": [
  {
   "cell_type": "code",
   "execution_count": 1,
   "metadata": {},
   "outputs": [],
   "source": [
    "import pandas as pd\n",
    "import tqdm\n",
    "from tqdm import tqdm_notebook\n",
    "import seaborn as sns"
   ]
  },
  {
   "cell_type": "code",
   "execution_count": 2,
   "metadata": {},
   "outputs": [],
   "source": [
    "df_housing_price = pd.read_csv('data/Metro_Zhvi_5BedroomOrMore.csv')"
   ]
  },
  {
   "cell_type": "code",
   "execution_count": 3,
   "metadata": {},
   "outputs": [
    {
     "data": {
      "text/html": [
       "<div>\n",
       "<style scoped>\n",
       "    .dataframe tbody tr th:only-of-type {\n",
       "        vertical-align: middle;\n",
       "    }\n",
       "\n",
       "    .dataframe tbody tr th {\n",
       "        vertical-align: top;\n",
       "    }\n",
       "\n",
       "    .dataframe thead th {\n",
       "        text-align: right;\n",
       "    }\n",
       "</style>\n",
       "<table border=\"1\" class=\"dataframe\">\n",
       "  <thead>\n",
       "    <tr style=\"text-align: right;\">\n",
       "      <th></th>\n",
       "      <th>RegionID</th>\n",
       "      <th>RegionName</th>\n",
       "      <th>SizeRank</th>\n",
       "      <th>1996-04</th>\n",
       "      <th>1996-05</th>\n",
       "      <th>1996-06</th>\n",
       "      <th>1996-07</th>\n",
       "      <th>1996-08</th>\n",
       "      <th>1996-09</th>\n",
       "      <th>1996-10</th>\n",
       "      <th>...</th>\n",
       "      <th>2018-11</th>\n",
       "      <th>2018-12</th>\n",
       "      <th>2019-01</th>\n",
       "      <th>2019-02</th>\n",
       "      <th>2019-03</th>\n",
       "      <th>2019-04</th>\n",
       "      <th>2019-05</th>\n",
       "      <th>2019-06</th>\n",
       "      <th>2019-07</th>\n",
       "      <th>2019-08</th>\n",
       "    </tr>\n",
       "  </thead>\n",
       "  <tbody>\n",
       "    <tr>\n",
       "      <th>0</th>\n",
       "      <td>102001</td>\n",
       "      <td>United States</td>\n",
       "      <td>0</td>\n",
       "      <td>203700.0</td>\n",
       "      <td>204000.0</td>\n",
       "      <td>204300.0</td>\n",
       "      <td>204700.0</td>\n",
       "      <td>205100.0</td>\n",
       "      <td>205700.0</td>\n",
       "      <td>206200.0</td>\n",
       "      <td>...</td>\n",
       "      <td>483000</td>\n",
       "      <td>485600</td>\n",
       "      <td>488100</td>\n",
       "      <td>490100</td>\n",
       "      <td>491200</td>\n",
       "      <td>491900</td>\n",
       "      <td>491800</td>\n",
       "      <td>491100</td>\n",
       "      <td>490400</td>\n",
       "      <td>490300</td>\n",
       "    </tr>\n",
       "    <tr>\n",
       "      <th>1</th>\n",
       "      <td>394913</td>\n",
       "      <td>New York, NY</td>\n",
       "      <td>1</td>\n",
       "      <td>276600.0</td>\n",
       "      <td>276900.0</td>\n",
       "      <td>277100.0</td>\n",
       "      <td>277100.0</td>\n",
       "      <td>277200.0</td>\n",
       "      <td>277300.0</td>\n",
       "      <td>277600.0</td>\n",
       "      <td>...</td>\n",
       "      <td>712400</td>\n",
       "      <td>714400</td>\n",
       "      <td>716800</td>\n",
       "      <td>721100</td>\n",
       "      <td>724900</td>\n",
       "      <td>727200</td>\n",
       "      <td>727300</td>\n",
       "      <td>725700</td>\n",
       "      <td>722900</td>\n",
       "      <td>721200</td>\n",
       "    </tr>\n",
       "    <tr>\n",
       "      <th>2</th>\n",
       "      <td>753899</td>\n",
       "      <td>Los Angeles-Long Beach-Anaheim, CA</td>\n",
       "      <td>2</td>\n",
       "      <td>315600.0</td>\n",
       "      <td>315600.0</td>\n",
       "      <td>315800.0</td>\n",
       "      <td>316000.0</td>\n",
       "      <td>316400.0</td>\n",
       "      <td>316900.0</td>\n",
       "      <td>317800.0</td>\n",
       "      <td>...</td>\n",
       "      <td>1103100</td>\n",
       "      <td>1107200</td>\n",
       "      <td>1110200</td>\n",
       "      <td>1110500</td>\n",
       "      <td>1106300</td>\n",
       "      <td>1101900</td>\n",
       "      <td>1098300</td>\n",
       "      <td>1094800</td>\n",
       "      <td>1092800</td>\n",
       "      <td>1093900</td>\n",
       "    </tr>\n",
       "    <tr>\n",
       "      <th>3</th>\n",
       "      <td>394463</td>\n",
       "      <td>Chicago, IL</td>\n",
       "      <td>3</td>\n",
       "      <td>281300.0</td>\n",
       "      <td>282700.0</td>\n",
       "      <td>283500.0</td>\n",
       "      <td>283800.0</td>\n",
       "      <td>283500.0</td>\n",
       "      <td>282800.0</td>\n",
       "      <td>281600.0</td>\n",
       "      <td>...</td>\n",
       "      <td>490900</td>\n",
       "      <td>492500</td>\n",
       "      <td>494700</td>\n",
       "      <td>496700</td>\n",
       "      <td>498000</td>\n",
       "      <td>497800</td>\n",
       "      <td>495100</td>\n",
       "      <td>491100</td>\n",
       "      <td>487200</td>\n",
       "      <td>484800</td>\n",
       "    </tr>\n",
       "    <tr>\n",
       "      <th>4</th>\n",
       "      <td>394514</td>\n",
       "      <td>Dallas-Fort Worth, TX</td>\n",
       "      <td>4</td>\n",
       "      <td>291800.0</td>\n",
       "      <td>289900.0</td>\n",
       "      <td>288500.0</td>\n",
       "      <td>287500.0</td>\n",
       "      <td>286900.0</td>\n",
       "      <td>286500.0</td>\n",
       "      <td>285600.0</td>\n",
       "      <td>...</td>\n",
       "      <td>462900</td>\n",
       "      <td>466300</td>\n",
       "      <td>468700</td>\n",
       "      <td>469400</td>\n",
       "      <td>469100</td>\n",
       "      <td>469700</td>\n",
       "      <td>469400</td>\n",
       "      <td>467500</td>\n",
       "      <td>465200</td>\n",
       "      <td>464400</td>\n",
       "    </tr>\n",
       "  </tbody>\n",
       "</table>\n",
       "<p>5 rows × 284 columns</p>\n",
       "</div>"
      ],
      "text/plain": [
       "   RegionID                          RegionName  SizeRank   1996-04   1996-05  \\\n",
       "0    102001                       United States         0  203700.0  204000.0   \n",
       "1    394913                        New York, NY         1  276600.0  276900.0   \n",
       "2    753899  Los Angeles-Long Beach-Anaheim, CA         2  315600.0  315600.0   \n",
       "3    394463                         Chicago, IL         3  281300.0  282700.0   \n",
       "4    394514               Dallas-Fort Worth, TX         4  291800.0  289900.0   \n",
       "\n",
       "    1996-06   1996-07   1996-08   1996-09   1996-10  ...  2018-11  2018-12  \\\n",
       "0  204300.0  204700.0  205100.0  205700.0  206200.0  ...   483000   485600   \n",
       "1  277100.0  277100.0  277200.0  277300.0  277600.0  ...   712400   714400   \n",
       "2  315800.0  316000.0  316400.0  316900.0  317800.0  ...  1103100  1107200   \n",
       "3  283500.0  283800.0  283500.0  282800.0  281600.0  ...   490900   492500   \n",
       "4  288500.0  287500.0  286900.0  286500.0  285600.0  ...   462900   466300   \n",
       "\n",
       "   2019-01  2019-02  2019-03  2019-04  2019-05  2019-06  2019-07  2019-08  \n",
       "0   488100   490100   491200   491900   491800   491100   490400   490300  \n",
       "1   716800   721100   724900   727200   727300   725700   722900   721200  \n",
       "2  1110200  1110500  1106300  1101900  1098300  1094800  1092800  1093900  \n",
       "3   494700   496700   498000   497800   495100   491100   487200   484800  \n",
       "4   468700   469400   469100   469700   469400   467500   465200   464400  \n",
       "\n",
       "[5 rows x 284 columns]"
      ]
     },
     "execution_count": 3,
     "metadata": {},
     "output_type": "execute_result"
    }
   ],
   "source": [
    "df_housing_price.head()"
   ]
  },
  {
   "cell_type": "code",
   "execution_count": 4,
   "metadata": {},
   "outputs": [],
   "source": [
    "dates = list(df_housing_price.columns)\n",
    "dates.remove('RegionID')\n",
    "dates.remove('RegionName')\n",
    "dates.remove('SizeRank')\n"
   ]
  },
  {
   "cell_type": "code",
   "execution_count": 5,
   "metadata": {},
   "outputs": [
    {
     "data": {
      "application/vnd.jupyter.widget-view+json": {
       "model_id": "afd961c25a114743ace5aef2bdc0fdec",
       "version_major": 2,
       "version_minor": 0
      },
      "text/plain": [
       "HBox(children=(IntProgress(value=1, bar_style='info', max=1), HTML(value='')))"
      ]
     },
     "metadata": {},
     "output_type": "display_data"
    },
    {
     "name": "stdout",
     "output_type": "stream",
     "text": [
      "\n"
     ]
    }
   ],
   "source": [
    "df_housing_price_formatted = pd.DataFrame()\n",
    "temp = pd.DataFrame()\n",
    "\n",
    "for index,row in tqdm_notebook(df_housing_price.iterrows()):\n",
    "    temp['date'] = dates\n",
    "    temp['RegionID'] = row['RegionID']\n",
    "    temp['RegionName'] = row['RegionName']\n",
    "    temp['SizeRank'] = row['SizeRank']\n",
    "    temp['Price'] = list(row[3:].values)\n",
    "    df_housing_price_formatted = pd.concat([df_housing_price_formatted,temp], ignore_index=True) "
   ]
  },
  {
   "cell_type": "code",
   "execution_count": 6,
   "metadata": {},
   "outputs": [
    {
     "data": {
      "text/html": [
       "<div>\n",
       "<style scoped>\n",
       "    .dataframe tbody tr th:only-of-type {\n",
       "        vertical-align: middle;\n",
       "    }\n",
       "\n",
       "    .dataframe tbody tr th {\n",
       "        vertical-align: top;\n",
       "    }\n",
       "\n",
       "    .dataframe thead th {\n",
       "        text-align: right;\n",
       "    }\n",
       "</style>\n",
       "<table border=\"1\" class=\"dataframe\">\n",
       "  <thead>\n",
       "    <tr style=\"text-align: right;\">\n",
       "      <th></th>\n",
       "      <th>date</th>\n",
       "      <th>RegionID</th>\n",
       "      <th>RegionName</th>\n",
       "      <th>SizeRank</th>\n",
       "      <th>Price</th>\n",
       "    </tr>\n",
       "  </thead>\n",
       "  <tbody>\n",
       "    <tr>\n",
       "      <th>0</th>\n",
       "      <td>1996-04</td>\n",
       "      <td>102001</td>\n",
       "      <td>United States</td>\n",
       "      <td>0</td>\n",
       "      <td>203700.0</td>\n",
       "    </tr>\n",
       "    <tr>\n",
       "      <th>1</th>\n",
       "      <td>1996-05</td>\n",
       "      <td>102001</td>\n",
       "      <td>United States</td>\n",
       "      <td>0</td>\n",
       "      <td>204000.0</td>\n",
       "    </tr>\n",
       "    <tr>\n",
       "      <th>2</th>\n",
       "      <td>1996-06</td>\n",
       "      <td>102001</td>\n",
       "      <td>United States</td>\n",
       "      <td>0</td>\n",
       "      <td>204300.0</td>\n",
       "    </tr>\n",
       "    <tr>\n",
       "      <th>3</th>\n",
       "      <td>1996-07</td>\n",
       "      <td>102001</td>\n",
       "      <td>United States</td>\n",
       "      <td>0</td>\n",
       "      <td>204700.0</td>\n",
       "    </tr>\n",
       "    <tr>\n",
       "      <th>4</th>\n",
       "      <td>1996-08</td>\n",
       "      <td>102001</td>\n",
       "      <td>United States</td>\n",
       "      <td>0</td>\n",
       "      <td>205100.0</td>\n",
       "    </tr>\n",
       "  </tbody>\n",
       "</table>\n",
       "</div>"
      ],
      "text/plain": [
       "      date  RegionID     RegionName  SizeRank     Price\n",
       "0  1996-04    102001  United States         0  203700.0\n",
       "1  1996-05    102001  United States         0  204000.0\n",
       "2  1996-06    102001  United States         0  204300.0\n",
       "3  1996-07    102001  United States         0  204700.0\n",
       "4  1996-08    102001  United States         0  205100.0"
      ]
     },
     "execution_count": 6,
     "metadata": {},
     "output_type": "execute_result"
    }
   ],
   "source": [
    "df_housing_price_formatted.head()"
   ]
  },
  {
   "cell_type": "code",
   "execution_count": 7,
   "metadata": {},
   "outputs": [
    {
     "data": {
      "text/html": [
       "<div>\n",
       "<style scoped>\n",
       "    .dataframe tbody tr th:only-of-type {\n",
       "        vertical-align: middle;\n",
       "    }\n",
       "\n",
       "    .dataframe tbody tr th {\n",
       "        vertical-align: top;\n",
       "    }\n",
       "\n",
       "    .dataframe thead th {\n",
       "        text-align: right;\n",
       "    }\n",
       "</style>\n",
       "<table border=\"1\" class=\"dataframe\">\n",
       "  <thead>\n",
       "    <tr style=\"text-align: right;\">\n",
       "      <th></th>\n",
       "      <th>date</th>\n",
       "      <th>RegionID</th>\n",
       "      <th>RegionName</th>\n",
       "      <th>SizeRank</th>\n",
       "      <th>Price</th>\n",
       "    </tr>\n",
       "  </thead>\n",
       "  <tbody>\n",
       "    <tr>\n",
       "      <th>0</th>\n",
       "      <td>1996-04</td>\n",
       "      <td>102001</td>\n",
       "      <td>United States</td>\n",
       "      <td>0</td>\n",
       "      <td>203700.0</td>\n",
       "    </tr>\n",
       "    <tr>\n",
       "      <th>1</th>\n",
       "      <td>1996-05</td>\n",
       "      <td>102001</td>\n",
       "      <td>United States</td>\n",
       "      <td>0</td>\n",
       "      <td>204000.0</td>\n",
       "    </tr>\n",
       "    <tr>\n",
       "      <th>2</th>\n",
       "      <td>1996-06</td>\n",
       "      <td>102001</td>\n",
       "      <td>United States</td>\n",
       "      <td>0</td>\n",
       "      <td>204300.0</td>\n",
       "    </tr>\n",
       "    <tr>\n",
       "      <th>3</th>\n",
       "      <td>1996-07</td>\n",
       "      <td>102001</td>\n",
       "      <td>United States</td>\n",
       "      <td>0</td>\n",
       "      <td>204700.0</td>\n",
       "    </tr>\n",
       "    <tr>\n",
       "      <th>4</th>\n",
       "      <td>1996-08</td>\n",
       "      <td>102001</td>\n",
       "      <td>United States</td>\n",
       "      <td>0</td>\n",
       "      <td>205100.0</td>\n",
       "    </tr>\n",
       "  </tbody>\n",
       "</table>\n",
       "</div>"
      ],
      "text/plain": [
       "      date  RegionID     RegionName  SizeRank     Price\n",
       "0  1996-04    102001  United States         0  203700.0\n",
       "1  1996-05    102001  United States         0  204000.0\n",
       "2  1996-06    102001  United States         0  204300.0\n",
       "3  1996-07    102001  United States         0  204700.0\n",
       "4  1996-08    102001  United States         0  205100.0"
      ]
     },
     "execution_count": 7,
     "metadata": {},
     "output_type": "execute_result"
    }
   ],
   "source": [
    "df_housing_price_formatted = df_housing_price_formatted.dropna()\n",
    "df_housing_price_formatted['Price'] = pd.to_numeric(df_housing_price_formatted['Price'])\n",
    "df_housing_price_formatted.head()"
   ]
  },
  {
   "cell_type": "code",
   "execution_count": 8,
   "metadata": {},
   "outputs": [
    {
     "data": {
      "text/plain": [
       "530"
      ]
     },
     "execution_count": 8,
     "metadata": {},
     "output_type": "execute_result"
    }
   ],
   "source": [
    "len(list(set(df_housing_price_formatted['RegionName'])))"
   ]
  },
  {
   "cell_type": "code",
   "execution_count": 9,
   "metadata": {},
   "outputs": [],
   "source": [
    "df_housing_price_formatted['pct'] = df_housing_price_formatted.sort_values('date').groupby(['RegionName']).Price.pct_change()"
   ]
  },
  {
   "cell_type": "code",
   "execution_count": 10,
   "metadata": {},
   "outputs": [
    {
     "data": {
      "text/html": [
       "<div>\n",
       "<style scoped>\n",
       "    .dataframe tbody tr th:only-of-type {\n",
       "        vertical-align: middle;\n",
       "    }\n",
       "\n",
       "    .dataframe tbody tr th {\n",
       "        vertical-align: top;\n",
       "    }\n",
       "\n",
       "    .dataframe thead th {\n",
       "        text-align: right;\n",
       "    }\n",
       "</style>\n",
       "<table border=\"1\" class=\"dataframe\">\n",
       "  <thead>\n",
       "    <tr style=\"text-align: right;\">\n",
       "      <th></th>\n",
       "      <th>date</th>\n",
       "      <th>RegionID</th>\n",
       "      <th>RegionName</th>\n",
       "      <th>SizeRank</th>\n",
       "      <th>Price</th>\n",
       "      <th>pct</th>\n",
       "    </tr>\n",
       "  </thead>\n",
       "  <tbody>\n",
       "    <tr>\n",
       "      <th>0</th>\n",
       "      <td>1996-04</td>\n",
       "      <td>102001</td>\n",
       "      <td>United States</td>\n",
       "      <td>0</td>\n",
       "      <td>203700.0</td>\n",
       "      <td>NaN</td>\n",
       "    </tr>\n",
       "    <tr>\n",
       "      <th>1</th>\n",
       "      <td>1996-05</td>\n",
       "      <td>102001</td>\n",
       "      <td>United States</td>\n",
       "      <td>0</td>\n",
       "      <td>204000.0</td>\n",
       "      <td>0.001473</td>\n",
       "    </tr>\n",
       "    <tr>\n",
       "      <th>2</th>\n",
       "      <td>1996-06</td>\n",
       "      <td>102001</td>\n",
       "      <td>United States</td>\n",
       "      <td>0</td>\n",
       "      <td>204300.0</td>\n",
       "      <td>0.001471</td>\n",
       "    </tr>\n",
       "    <tr>\n",
       "      <th>3</th>\n",
       "      <td>1996-07</td>\n",
       "      <td>102001</td>\n",
       "      <td>United States</td>\n",
       "      <td>0</td>\n",
       "      <td>204700.0</td>\n",
       "      <td>0.001958</td>\n",
       "    </tr>\n",
       "    <tr>\n",
       "      <th>4</th>\n",
       "      <td>1996-08</td>\n",
       "      <td>102001</td>\n",
       "      <td>United States</td>\n",
       "      <td>0</td>\n",
       "      <td>205100.0</td>\n",
       "      <td>0.001954</td>\n",
       "    </tr>\n",
       "  </tbody>\n",
       "</table>\n",
       "</div>"
      ],
      "text/plain": [
       "      date  RegionID     RegionName  SizeRank     Price       pct\n",
       "0  1996-04    102001  United States         0  203700.0       NaN\n",
       "1  1996-05    102001  United States         0  204000.0  0.001473\n",
       "2  1996-06    102001  United States         0  204300.0  0.001471\n",
       "3  1996-07    102001  United States         0  204700.0  0.001958\n",
       "4  1996-08    102001  United States         0  205100.0  0.001954"
      ]
     },
     "execution_count": 10,
     "metadata": {},
     "output_type": "execute_result"
    }
   ],
   "source": [
    "df_housing_price_formatted.head()"
   ]
  },
  {
   "cell_type": "code",
   "execution_count": 11,
   "metadata": {},
   "outputs": [],
   "source": [
    "#list(set(df_housing_price_formatted['RegionName']))"
   ]
  },
  {
   "cell_type": "code",
   "execution_count": 12,
   "metadata": {},
   "outputs": [
    {
     "data": {
      "image/png": "[encoded data removed]",
      "text/plain": [
       "<Figure size 432x288 with 1 Axes>"
      ]
     },
     "metadata": {
      "needs_background": "light"
     },
     "output_type": "display_data"
    }
   ],
   "source": [
    "cities = ['Houston, TX']\n",
    "tex = df_housing_price_formatted[df_housing_price_formatted['RegionName'].isin(cities)]\n",
    "ax = sns.lineplot(x=\"date\", y=\"pct\",hue=\"RegionName\", data=tex)"
   ]
  },
  {
   "cell_type": "code",
   "execution_count": null,
   "metadata": {},
   "outputs": [],
   "source": []
  }
 ],
 "metadata": {
  "kernelspec": {
   "display_name": "Python 3",
   "language": "python",
   "name": "python3"
  },
  "language_info": {
   "codemirror_mode": {
    "name": "ipython",
    "version": 3
   },
   "file_extension": ".py",
   "mimetype": "text/x-python",
   "name": "python",
   "nbconvert_exporter": "python",
   "pygments_lexer": "ipython3",
   "version": "3.7.3"
  }
 },
 "nbformat": 4,
 "nbformat_minor": 2
}
